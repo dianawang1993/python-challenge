{
 "cells": [
  {
   "cell_type": "code",
   "execution_count": 12,
   "id": "8dd75df9-3de4-4bac-b4a8-ccbc8128b08e",
   "metadata": {},
   "outputs": [],
   "source": [
    "import csv\n",
    "\n",
    "with open('/Users/qiangehuang/python-challenge/PyBank/budget_data.csv', 'r') as file:\n",
    "    reader = csv.reader(file)\n",
    "    next(reader) \n",
    "    \n",
    "    months = []\n",
    "    profit_losses = []\n",
    "    changes = []\n",
    "\n",
    "    for row in reader:\n",
    "        months.append(row[0])\n",
    "        profit_losses.append(int(row[1]))\n"
   ]
  },
  {
   "cell_type": "code",
   "execution_count": 15,
   "id": "377eaea5-8d9a-47a4-ae3b-e1c9721c392f",
   "metadata": {},
   "outputs": [],
   "source": [
    "# The total number of months included in the dataset\n",
    "total_months = len(months)"
   ]
  },
  {
   "cell_type": "code",
   "execution_count": 16,
   "id": "8e830503-22af-42e5-a737-003df4faa6fa",
   "metadata": {},
   "outputs": [],
   "source": [
    "#The net total amount of Profit/Losses over the entire period\n",
    "total_amount = sum(profit_losses)"
   ]
  },
  {
   "cell_type": "code",
   "execution_count": 20,
   "id": "963efe61-a911-4b1d-8641-8e30f6614ce2",
   "metadata": {},
   "outputs": [],
   "source": [
    "#The average of the changes in Profit/Losses over the entire period\n",
    "for i in range(1, total_months):\n",
    "    change = profit_losses[i] - profit_losses[i-1]\n",
    "    changes.append(change)\n",
    "average_change = sum(changes) / len(changes)"
   ]
  },
  {
   "cell_type": "code",
   "execution_count": 21,
   "id": "b372121b-8eef-4550-a601-82c88393a066",
   "metadata": {},
   "outputs": [],
   "source": [
    "#The greatest increase in profits (date and amount) over the entire period\n",
    "greatest_increase = max(changes)\n",
    "greatest_increase_date = months[changes.index(greatest_increase) + 1]"
   ]
  },
  {
   "cell_type": "code",
   "execution_count": 22,
   "id": "cf3aeea2-a7f1-4dd8-baf4-46e5be629f20",
   "metadata": {},
   "outputs": [],
   "source": [
    "#The greatest decrease in losses (date and amount) over the entire period\n",
    "greatest_decrease = min(changes)\n",
    "greatest_decrease_date = months[changes.index(greatest_decrease) + 1]"
   ]
  },
  {
   "cell_type": "code",
   "execution_count": 23,
   "id": "efe595b3-9947-409c-be43-ecd4f4c855b3",
   "metadata": {},
   "outputs": [
    {
     "name": "stdout",
     "output_type": "stream",
     "text": [
      "Total months:86\n",
      "Total acount:$38382578\n",
      "The average fo the changes in Profit/Losses:$-2315.12\n",
      "Greatest increase in profits:Feb-2012($1926159)\n",
      "Greatest decrease in losses:Sep-2013($-2196167)\n"
     ]
    }
   ],
   "source": [
    "# Print the results\n",
    "##----------------------\n",
    "\n",
    "print(f\"Total months:{total_months}\")\n",
    "print(f\"Total acount:${total_amount}\")\n",
    "print(f\"The average fo the changes in Profit/Losses:${average_change:.2f}\")\n",
    "print(f\"Greatest increase in profits:{greatest_increase_date}(${greatest_increase})\")\n",
    "print(f\"Greatest decrease in losses:{greatest_decrease_date}(${greatest_decrease})\")"
   ]
  },
  {
   "cell_type": "code",
   "execution_count": null,
   "id": "b40e9c79-ed10-41ed-908e-281a112f7bbf",
   "metadata": {},
   "outputs": [],
   "source": []
  }
 ],
 "metadata": {
  "kernelspec": {
   "display_name": "Python 3 (ipykernel)",
   "language": "python",
   "name": "python3"
  },
  "language_info": {
   "codemirror_mode": {
    "name": "ipython",
    "version": 3
   },
   "file_extension": ".py",
   "mimetype": "text/x-python",
   "name": "python",
   "nbconvert_exporter": "python",
   "pygments_lexer": "ipython3",
   "version": "3.11.5"
  }
 },
 "nbformat": 4,
 "nbformat_minor": 5
}
